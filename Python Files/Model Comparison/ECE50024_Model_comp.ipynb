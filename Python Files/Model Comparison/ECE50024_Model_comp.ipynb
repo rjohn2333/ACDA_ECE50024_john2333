{
 "cells": [
  {
   "cell_type": "markdown",
   "source": [
    "The following notebook accepts output csv files and compares them to the ground-truth csv file."
   ],
   "metadata": {
    "collapsed": false
   }
  },
  {
   "cell_type": "code",
   "execution_count": 1,
   "metadata": {
    "collapsed": true,
    "ExecuteTime": {
     "start_time": "2023-05-04T11:27:05.491678Z",
     "end_time": "2023-05-04T11:27:05.504904Z"
    }
   },
   "outputs": [],
   "source": [
    "import csv\n",
    "\n",
    "# Define function for comparing two csv files\n",
    "def compare_classifications(true_file, model_file, output_file):\n",
    "    true_labels = {}\n",
    "    model_labels = {}\n",
    "    comparisons = []\n",
    "\n",
    "    with open(true_file, 'r') as true_csv:\n",
    "        true_reader = csv.reader(true_csv)\n",
    "        for row in true_reader:\n",
    "            file_name, classification = row\n",
    "            true_labels[file_name] = classification\n",
    "\n",
    "    with open(model_file, 'r') as model_csv:\n",
    "        model_reader = csv.reader(model_csv)\n",
    "        for row in model_reader:\n",
    "            file_name, classification = row\n",
    "            model_labels[file_name] = classification\n",
    "\n",
    "    for file_name, true_classification in true_labels.items():\n",
    "        if file_name in model_labels:\n",
    "            model_classification = model_labels[file_name]\n",
    "            comparison = 1 if true_classification == model_classification else 0\n",
    "            comparisons.append([file_name, comparison])\n",
    "        else:\n",
    "            comparisons.append([file_name, 0])\n",
    "\n",
    "    with open(output_file, 'w', newline='') as output_csv:\n",
    "        writer = csv.writer(output_csv)\n",
    "        writer.writerow(['File Name', 'Correct/Incorrect'])\n",
    "        writer.writerows(comparisons)\n"
   ]
  },
  {
   "cell_type": "code",
   "execution_count": 4,
   "outputs": [],
   "source": [
    "\n",
    "# Provide the file paths for the true labels, model-generated labels, and output CSV files\n",
    "true_file_path = 'Seg_Pred_Classes.csv'\n",
    "ADCA_predictions = 'adaptive_conv_predictions.csv'\n",
    "Img_rec_predictions = 'img_recognition_predictions.csv'\n",
    "ACDA_output_file_path = 'ACDA_comparisons.csv'\n",
    "Img_rec_output_file_path = 'Img_rec_comparisons.csv'\n",
    "\n",
    "\n",
    "# Call the function to compare the classifications and save the results\n",
    "compare_classifications(true_file_path, ADCA_predictions, ACDA_output_file_path)\n",
    "compare_classifications(true_file_path, Img_rec_predictions, Img_rec_output_file_path)"
   ],
   "metadata": {
    "collapsed": false,
    "ExecuteTime": {
     "start_time": "2023-05-04T11:30:53.339864Z",
     "end_time": "2023-05-04T11:30:53.349386Z"
    }
   }
  },
  {
   "cell_type": "code",
   "execution_count": null,
   "outputs": [],
   "source": [],
   "metadata": {
    "collapsed": false
   }
  }
 ],
 "metadata": {
  "kernelspec": {
   "display_name": "Python 3",
   "language": "python",
   "name": "python3"
  },
  "language_info": {
   "codemirror_mode": {
    "name": "ipython",
    "version": 2
   },
   "file_extension": ".py",
   "mimetype": "text/x-python",
   "name": "python",
   "nbconvert_exporter": "python",
   "pygments_lexer": "ipython2",
   "version": "2.7.6"
  }
 },
 "nbformat": 4,
 "nbformat_minor": 0
}
